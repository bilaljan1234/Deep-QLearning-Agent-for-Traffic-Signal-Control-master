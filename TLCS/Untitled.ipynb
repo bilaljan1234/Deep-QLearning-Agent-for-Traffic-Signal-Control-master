{
 "cells": [
  {
   "cell_type": "code",
   "execution_count": 1,
   "id": "c588e927",
   "metadata": {},
   "outputs": [],
   "source": [
    "!python generator.py"
   ]
  },
  {
   "cell_type": "code",
   "execution_count": 2,
   "id": "eaac02cb",
   "metadata": {},
   "outputs": [],
   "source": [
    "!python memory.py"
   ]
  },
  {
   "cell_type": "code",
   "execution_count": 3,
   "id": "d77789b7",
   "metadata": {},
   "outputs": [
    {
     "name": "stderr",
     "output_type": "stream",
     "text": [
      "WARNING:tensorflow:From C:\\Users\\PMLS\\anaconda3\\Lib\\site-packages\\keras\\src\\losses.py:2976: The name tf.losses.sparse_softmax_cross_entropy is deprecated. Please use tf.compat.v1.losses.sparse_softmax_cross_entropy instead.\n",
      "\n"
     ]
    }
   ],
   "source": [
    "!python model.py"
   ]
  },
  {
   "cell_type": "code",
   "execution_count": 4,
   "id": "c2f28862",
   "metadata": {},
   "outputs": [],
   "source": [
    "!python training_simulation.py"
   ]
  },
  {
   "cell_type": "code",
   "execution_count": 6,
   "id": "f3d9e9b9",
   "metadata": {},
   "outputs": [
    {
     "name": "stderr",
     "output_type": "stream",
     "text": [
      "WARNING:tensorflow:From C:\\Users\\PMLS\\anaconda3\\Lib\\site-packages\\keras\\src\\losses.py:2976: The name tf.losses.sparse_softmax_cross_entropy is deprecated. Please use tf.compat.v1.losses.sparse_softmax_cross_entropy instead.\n",
      "\n",
      "WARNING:tensorflow:From C:\\Users\\PMLS\\anaconda3\\Lib\\site-packages\\keras\\src\\backend.py:1398: The name tf.executing_eagerly_outside_functions is deprecated. Please use tf.compat.v1.executing_eagerly_outside_functions instead.\n",
      "\n",
      "WARNING:absl:`lr` is deprecated in Keras optimizer, please use `learning_rate` or use the legacy optimizer, e.g.,tf.keras.optimizers.legacy.Adam.\n",
      "Traceback (most recent call last):\n",
      "  File \"D:\\laptop\\BSCS8th\\research\\Deep-QLearning-Agent-for-Traffic-Signal-Control-master_3\\Deep-QLearning-Agent-for-Traffic-Signal-Control-master\\TLCS\\training_main.py\", line 40, in <module>\n",
      "    config['n_low'],\n",
      "    ~~~~~~^^^^^^^^^\n",
      "KeyError: 'n_low'\n"
     ]
    }
   ],
   "source": [
    "!python training_main.py"
   ]
  },
  {
   "cell_type": "code",
   "execution_count": null,
   "id": "e674705d",
   "metadata": {},
   "outputs": [],
   "source": [
    "!python"
   ]
  },
  {
   "cell_type": "code",
   "execution_count": null,
   "id": "144a4385",
   "metadata": {},
   "outputs": [],
   "source": [
    "!python"
   ]
  },
  {
   "cell_type": "code",
   "execution_count": null,
   "id": "4599ab04",
   "metadata": {},
   "outputs": [],
   "source": [
    "!python"
   ]
  },
  {
   "cell_type": "code",
   "execution_count": null,
   "id": "45157b95",
   "metadata": {},
   "outputs": [],
   "source": [
    "!python"
   ]
  }
 ],
 "metadata": {
  "kernelspec": {
   "display_name": "Python 3 (ipykernel)",
   "language": "python",
   "name": "python3"
  },
  "language_info": {
   "codemirror_mode": {
    "name": "ipython",
    "version": 3
   },
   "file_extension": ".py",
   "mimetype": "text/x-python",
   "name": "python",
   "nbconvert_exporter": "python",
   "pygments_lexer": "ipython3",
   "version": "3.11.5"
  }
 },
 "nbformat": 4,
 "nbformat_minor": 5
}
